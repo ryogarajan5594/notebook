{
  "cells": [
    {
      "metadata": {},
      "cell_type": "markdown",
      "source": "# Lab 4b\n## `while()` Loops and Increments\n\n-----\n\n### Student will be able to\n- Create forever loops using `while` and `break`\n- Use incrementing variables in a while loop\n- Control while loops using Boolean operators"
    },
    {
      "metadata": {},
      "cell_type": "markdown",
      "source": "## Tasks"
    },
    {
      "metadata": {
        "trusted": true
      },
      "cell_type": "code",
      "source": "# [ ] use a \"forever\" while loop to get user input of integers to add to sum, \n# until a non-digit is entered, then break the loop and print sum\nsum = 0\nflag = True\nwhile True:\n    user_input = input(\"enter a digit to add to sum or non digit to break\");\n    \n    if user_input.isdigit():\n        sum = sum + int(user_input)\n    else:\n        break\n\nprint (\"sum is\", sum)\n        \n",
      "execution_count": null,
      "outputs": []
    },
    {
      "metadata": {
        "trusted": true
      },
      "cell_type": "code",
      "source": "# [ ] use a while True loop (forever loop) to give 4 chances for input of a correct color in a rainbow\n# rainbow = \"red orange yellow green blue indigo violet\"\ncolors = \"red, orange, yellow, green, blue, indigo, violet\"\nchances = 0\nwhile True:\n    rainbow = input(\"Guess a color of the rainbow. You have four chances. \")\n    if rainbow.isalpha:\n        if rainbow in colors:\n            print(\"That is a color in the rainbow\")\n        elif rainbow not in colors:\n            print(\"That is incorrect. Please try again. \")\n        chances += 1\n    if chances == 4:\n            print(\"You are out of tries.\")\n            break\n",
      "execution_count": null,
      "outputs": []
    },
    {
      "metadata": {
        "trusted": true
      },
      "cell_type": "code",
      "source": "# [ ] Get input for a book title, keep looping while input is Not in title format (title is every word capitalized)\nwhile True:\n    book_title = input(\"Enter a book title. \")\n    if book_title.istitle():\n        print(book_title,\"is properly formatted\")\n        break\n    else:\n        print(\"Please try again.\\n\")\n\n",
      "execution_count": 1,
      "outputs": [
        {
          "output_type": "stream",
          "name": "stdout",
          "text": "Enter a book title. Dr.Seuss\nDr.Seuss is properly formatted\n"
        }
      ]
    },
    {
      "metadata": {
        "trusted": true
      },
      "cell_type": "code",
      "source": "# [ ] create a math quiz question and ask for the solution until the input is correct\n\nwhile True:\n    math_quiz_question = input(\"What is 1+1? \")\n    if math_quiz_question.isdigit():\n        if int(math_quiz_question) == 2:\n            print(\"That is correct.\")\n            break\n        else:\n            print(\"Please try again.\\n\")\n    else:\n        print(\"Please try again.\\n\")",
      "execution_count": null,
      "outputs": []
    },
    {
      "metadata": {},
      "cell_type": "markdown",
      "source": "\n## Fix the Error"
    },
    {
      "metadata": {
        "trusted": true
      },
      "cell_type": "code",
      "source": "# [ ] review the code, run, fix the error\ntickets = input(\"enter tickets remaining (0 to quit): \")\n\n# if tickets are multiple of 3 then \"winner\"\nwhile True:\n    if int(tickets) == 0:\n        break\n    elif (\".\" in str(int(tickets)/3)):\n        print (\".\" in str(int(tickets)/3))\n        print (int(tickets)/3)\n        print (str(int(tickets)/3).isdigit())\n        print(\"You did not win, Please try again!\")\n        tickets = input(\"enter tickets remaining (0 to quit): \")\n    else:\n      \n        print (str(int(tickets)/3).isdigit())\n        print(\"You are a winner\")\n        break\n        \nprint (str(int(tickets)/3).isdigit())\nprint(\"Game ended\")\n",
      "execution_count": null,
      "outputs": [
        {
          "output_type": "stream",
          "name": "stdout",
          "text": "enter tickets remaining (0 to quit): 6\nTrue\n2.0\nFalse\nYou did not win, Please try again!\nenter tickets remaining (0 to quit): 9\nTrue\n3.0\nFalse\nYou did not win, Please try again!\nenter tickets remaining (0 to quit): 3\nTrue\n1.0\nFalse\nYou did not win, Please try again!\nenter tickets remaining (0 to quit): 18\nTrue\n6.0\nFalse\nYou did not win, Please try again!\nenter tickets remaining (0 to quit): 6\nTrue\n2.0\nFalse\nYou did not win, Please try again!\nenter tickets remaining (0 to quit): 5\nTrue\n1.6666666666666667\nFalse\nYou did not win, Please try again!\nenter tickets remaining (0 to quit): 66\nTrue\n22.0\nFalse\nYou did not win, Please try again!\n"
        }
      ]
    },
    {
      "metadata": {},
      "cell_type": "markdown",
      "source": "## Create a function: quiz_item()  that asks a question and tests if input is correct  \n- quiz_item()has 2 parameter **strings**: question and solution  \n- shows question, gets answer input  \n- returns True if `answer == solution` or continues to ask question until correct answer is provided  \n- use a while loop\n\ncreate 2 or more quiz questions that call quiz_item()  \n**Hint**: provide multiple choice or T/F answers"
    },
    {
      "metadata": {
        "trusted": true
      },
      "cell_type": "code",
      "source": "# Create quiz_item() and 2 or more quiz questions that call quiz_item()\n\ndef quiz_item(question, solution):\n    guess = input(question)\n    while guess.lower() != solution:\n        guess = input(\"Your guess was incorrect. Please try again. \"+question)\n    print(\"That is correct\")\n           \nquiz_item(\"Is skipping school bad? \",\"yes\")\nquiz_item(\"Should help out in your community? \",\"yes\")\nquiz_item(\"Who wrote the Percy Jackson series? \",\"rick riodran\")\nquiz_item(\"Is  water a solid? \",\"no\")",
      "execution_count": null,
      "outputs": []
    },
    {
      "metadata": {
        "collapsed": true
      },
      "cell_type": "markdown",
      "source": "[Terms of use](http://go.microsoft.com/fwlink/?LinkID=206977) &nbsp; [Privacy & cookies](https://go.microsoft.com/fwlink/?LinkId=521839) &nbsp; © 2017 Microsoft"
    }
  ],
  "metadata": {
    "anaconda-cloud": {},
    "kernelspec": {
      "name": "python3",
      "display_name": "Python 3",
      "language": "python"
    },
    "language_info": {
      "mimetype": "text/x-python",
      "nbconvert_exporter": "python",
      "name": "python",
      "pygments_lexer": "ipython3",
      "version": "3.5.4",
      "file_extension": ".py",
      "codemirror_mode": {
        "version": 3,
        "name": "ipython"
      }
    },
    "celltoolbar": "Raw Cell Format"
  },
  "nbformat": 4,
  "nbformat_minor": 1
}