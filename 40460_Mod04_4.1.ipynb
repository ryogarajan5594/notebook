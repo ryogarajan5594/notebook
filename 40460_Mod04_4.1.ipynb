{
  "cells": [
    {
      "metadata": {},
      "cell_type": "markdown",
      "source": "# Section 4.1\n## Nested Conditionals\n- Nested Conditionals  \n- Escape Sequence print formatting \"\\\\\"\n\n-----\n\n### Student will be able to\n- Create nested conditional logic in code  \n- Format print output using escape \"\\\\\" sequence "
    },
    {
      "metadata": {},
      "cell_type": "markdown",
      "source": "## Concept: Nested Conditionals\n[![view video](https://iajupyterprodblobs.blob.core.windows.net/imagecontainer/common/play_video.png)]( http://edxinteractivepage.blob.core.windows.net/edxpages/f7cff1a7-5601-48a1-95a6-fd1fdfabd20e.html?details=[{\"src\":\"http://jupyternootbookwams.streaming.mediaservices.windows.net/16ef1670-d6ca-4104-a923-9bdfd9c3a217/Unit1_Section6.1-nested-conditionals.ism/manifest\",\"type\":\"application/vnd.ms-sstr+xml\"}],[{\"src\":\"http://jupyternootbookwams.streaming.mediaservices.windows.net/16ef1670-d6ca-4104-a923-9bdfd9c3a217/Unit1_Section6.1-nested-conditionals.vtt\",\"srclang\":\"en\",\"kind\":\"subtitles\",\"label\":\"english\"}])\n### Nested Conditionals\n**if**  \n**&nbsp;&nbsp;&nbsp;&nbsp;if**  \n**&nbsp;&nbsp;&nbsp;&nbsp;&nbsp;&nbsp;&nbsp;&nbsp;if**  \n**&nbsp;&nbsp;&nbsp;&nbsp;&nbsp;&nbsp;&nbsp;&nbsp;else**  \n**&nbsp;&nbsp;&nbsp;&nbsp;else**  \n**else**  \n\n### Making a sandwich\nTaking a sandwich order starts with sandwich choices:\n> **Cheese or Veggie special?**  \nIf the response is **\"Cheese\"** \"nest\" a subquery:  \n>> **Manchego or Cheddar?**  \n  \n  \n|Nested &nbsp;**`if`**&nbsp; statement  flowchart  |\n| ------ | \n| ![Image of sandwich order flowchart](https://iajupyterprodblobs.blob.core.windows.net/imagecontainer/flowchart_sandwich.png)   | \n"
    },
    {
      "metadata": {},
      "cell_type": "markdown",
      "source": "### Examples\n> ***TIP:*** click in input box before typing input "
    },
    {
      "metadata": {
        "trusted": true
      },
      "cell_type": "code",
      "source": "# simplified example\n# [ ] review the code then run and following the flowchart paths\n\n# ***TIP:*** click in input box before typing\n\nsandwich_type = input('\"c\" for Cheese or \"v\" for Veggie Special: ')\n\nif sandwich_type.lower() == \"c\":\n    # select cheese type\n    cheese_type = input('\"c\" for Cheddar or \"m\" for Manchego: ')\n    \n    if cheese_type.lower() == \"c\":\n        print(\"Here is your Cheddar Cheese sandwich\")\n    else:\n        print(\"Here is your Manchego Cheese sandwich\") \n\nelse:\n    print(\"Here is your Veggie Special\")",
      "execution_count": 2,
      "outputs": [
        {
          "output_type": "stream",
          "name": "stdout",
          "text": "\"c\" for Cheese or \"v\" for Veggie Special: c\n\"c\" for Cheddar or \"m\" for Manchego: m\nHere is your Manchego Cheese sandwich\n"
        }
      ]
    },
    {
      "metadata": {
        "trusted": true
      },
      "cell_type": "code",
      "source": "# full example: handling some invalid input and elif statement\n# [ ] review the code then run following the flowchart paths including **invalid responses** like \"xyz123\"\n\n# ***TIP:*** click in input box before typing\n\nprint(\"Hi, welcome to the sandwich shop.  Please select a sandwich.\")\nsandwich_type = input('\"c\" for Cheese or \"v\" for Veggie Special: ')\n# select sandwich type sandwich_type = input('\"c\" for Cheese or \"v\" for Veggie Special: ')\nprint()\n    \nif sandwich_type.lower() == \"c\":\n    # select cheese type\n    print(\"Please select a cheese.\")\n    cheese_type = input('\"c\" for Cheddar or \"m\" for Manchego: ')\n    print()\n    \n    if cheese_type.lower() == \"c\":\n        print(\"Here is your Cheddar Cheese sandwich.  Thank you.\")\n    elif cheese_type.lower() == \"m\":\n        print(\"Here is your Manchego Cheese sandwich.  Thank you.\") \n    else:\n        print(\"Sorry, we don't have\", cheese_type, \"choice today.\")\n\nelif sandwich_type.lower() == \"v\":\n    print(\"Here is your Veggie Special. Thank you.\")\n        \nelse:\n    print(\"Sorry, we don't have\", sandwich_type, \"choice today.\")\nprint()\nprint(\"Goodbye!\")\n",
      "execution_count": 3,
      "outputs": [
        {
          "output_type": "stream",
          "text": "Hi, welcome to the sandwich shop.  Please select a sandwich.\n\"c\" for Cheese or \"v\" for Veggie Special: c\n\nPlease select a cheese.\n\"c\" for Cheddar or \"m\" for Manchego: m\n\nHere is your Manchego Cheese sandwich.  Thank you.\n\nGoodbye!\n",
          "name": "stdout"
        }
      ]
    },
    {
      "metadata": {},
      "cell_type": "markdown",
      "source": "## Task 1: Nested `if` \n### [ ] Program: Say \"Hello\"\n- using nested **`if`**\n  \n|Say \"Hello\" flowchart  |\n| ------ | \n|  ![Image: Say \"Hello\" flowchart](https://iajupyterprodblobs.blob.core.windows.net/imagecontainer/flowchart_say_hello.png) | "
    },
    {
      "metadata": {
        "trusted": true
      },
      "cell_type": "code",
      "source": "# [ ] Say \"Hello\" with nested if\nflow_hello = input(\"Would you like me to say hello? y/n:  \")\n\nif flow_hello == \"y\":\n    new_hello = input(\"Would you like me to say the whole word hello?:  \")    \n    if new_hello.lower == \"hello\":\n        print(\"hello\")\n    else:\n        print(\"Hi\")\nelse:\n    print(\"friendly nod\")\n\n\n\n        \n# [ ] Challenge: handle input other than y/n\n\n",
      "execution_count": 28,
      "outputs": [
        {
          "output_type": "stream",
          "name": "stdout",
          "text": "Would you like me to say hello? y/n:  y\nWould you like me to say the whole word hello?:  hello\nHi\n"
        }
      ]
    },
    {
      "metadata": {
        "trusted": true
      },
      "cell_type": "code",
      "source": "",
      "execution_count": null,
      "outputs": []
    },
    {
      "metadata": {},
      "cell_type": "markdown",
      "source": "## Task 2: Nested `if` - testing for `False`\n### Program:  [ ] 3 Guesses\n- Use nested if statements complete the flowchart code\n- Create a **`birds`** string variable with the names of 1, 2, 3 or more birds to make it easier\n- Get **`bird_guess`** input and use **`bird_guess in bird_names`** to generate Boolean True/False\n- If the the guess is wrong (**`False`**) create a subtest until the user has had 3 guesses\n  \n|3 Guesses (\"Guess the Bird\") flowchart  |\n| ------ | \n| ![Image of Guess the Bird flowchart](https://iajupyterprodblobs.blob.core.windows.net/imagecontainer/flowchart_guess_the_bird.png)   | "
    },
    {
      "metadata": {
        "trusted": true
      },
      "cell_type": "code",
      "source": "# [ ] Create the \"Guess the bird\" program \nbirds = \"robin\"\n\ndef check_guess():\n    bird_guess = input(\"Try to guess the bird: \")\n    if birds in birds:\n        print (\"Yes, 1st try!\")\n    else:   \n        next_bird_guess = input(\"Try again: \")\n        if next_bird_guess in birds:\n            print(\"Yes, 2nd try\")\n        else:\n            last_bird_guess = input(\"Try again: \")\n            if last_bird_guess in birds:\n                print(\"Yes, 3rd try\")\n            else:\n                print(\"Sorry, out of tries\")\n\n# call with test\n\ncheck_guess()\n",
      "execution_count": 5,
      "outputs": [
        {
          "output_type": "stream",
          "name": "stdout",
          "text": "Try to guess the bird: robin\nYes, 1st try!\n"
        }
      ]
    },
    {
      "metadata": {},
      "cell_type": "markdown",
      "source": "[Terms of use](http://go.microsoft.com/fwlink/?LinkID=206977) &nbsp; [Privacy & cookies](https://go.microsoft.com/fwlink/?LinkId=521839) &nbsp; © 2017 Microsoft"
    }
  ],
  "metadata": {
    "anaconda-cloud": {},
    "kernelspec": {
      "name": "python3",
      "display_name": "Python 3",
      "language": "python"
    },
    "language_info": {
      "mimetype": "text/x-python",
      "nbconvert_exporter": "python",
      "name": "python",
      "pygments_lexer": "ipython3",
      "version": "3.5.4",
      "file_extension": ".py",
      "codemirror_mode": {
        "version": 3,
        "name": "ipython"
      }
    }
  },
  "nbformat": 4,
  "nbformat_minor": 1
}