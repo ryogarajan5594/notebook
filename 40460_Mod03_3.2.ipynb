{
  "cells": [
    {
      "metadata": {},
      "cell_type": "markdown",
      "source": "# Section 3.2\n## Conditionals: Comparison Operators\n- **`if`, `else`, `pass`**  \n  - Conditionals using Boolean string methods\n  - **Comparison operators**\n  - String comparisons\n\n----- \n\n### Student will be able to\n- **Control code flow with `if`... `else` conditional logic**  \n  - Using Boolean string methods (`.isupper(), .isalpha(), startswith()...`)  \n  - **Using comparison (`>, <, >=, <=, ==, !=`)**  \n  - Using strings in comparisons  "
    },
    {
      "metadata": {},
      "cell_type": "markdown",
      "source": "## Concept: Comparison Operators \n - **`>`**\n - **`<`**\n - **`>=`**, **`<=`**\n - **`==`**\n - Assign **`=`** vs compare **`==`**\n - **`!=`** \n \n[![view video](https://iajupyterprodblobs.blob.core.windows.net/imagecontainer/common/play_video.png)]( http://edxinteractivepage.blob.core.windows.net/edxpages/f7cff1a7-5601-48a1-95a6-fd1fdfabd20e.html?details=[{\"src\":\"http://jupyternootbookwams.streaming.mediaservices.windows.net/cf192500-3879-4228-bd50-70dd3f38d831/Unit1_Section4.2-comparison-operators.ism/manifest\",\"type\":\"application/vnd.ms-sstr+xml\"}],[{\"src\":\"http://jupyternootbookwams.streaming.mediaservices.windows.net/cf192500-3879-4228-bd50-70dd3f38d831/Unit1_Section4.2-comparison-operators.vtt\",\"srclang\":\"en\",\"kind\":\"subtitles\",\"label\":\"english\"}])"
    },
    {
      "metadata": {},
      "cell_type": "markdown",
      "source": "### Examples"
    },
    {
      "metadata": {
        "trusted": true
      },
      "cell_type": "code",
      "source": "# [ ] review and run code to see if 3 greater than 5\n3 >5",
      "execution_count": 1,
      "outputs": [
        {
          "output_type": "execute_result",
          "execution_count": 1,
          "data": {
            "text/plain": "False"
          },
          "metadata": {}
        }
      ]
    },
    {
      "metadata": {
        "trusted": true
      },
      "cell_type": "code",
      "source": "# [ ] review and run code to see if 3 less than or equal to 5\n3 <= 5",
      "execution_count": 2,
      "outputs": [
        {
          "output_type": "execute_result",
          "execution_count": 2,
          "data": {
            "text/plain": "True"
          },
          "metadata": {}
        }
      ]
    },
    {
      "metadata": {
        "trusted": true
      },
      "cell_type": "code",
      "source": "# [ ] review and run code \n\n# assign x equal to 3\nx = 3\n\n# test if x is equal to\nx == 9",
      "execution_count": 3,
      "outputs": [
        {
          "output_type": "execute_result",
          "execution_count": 3,
          "data": {
            "text/plain": "False"
          },
          "metadata": {}
        }
      ]
    },
    {
      "metadata": {
        "trusted": true
      },
      "cell_type": "code",
      "source": "# [ ] review and run code \nx = 3\nprint(\"x not equal 9 is\", x != 9)\nprint(\"x equal 3 is\", x == 3)",
      "execution_count": 4,
      "outputs": [
        {
          "output_type": "stream",
          "text": "x not equal 9 is True\nx equal 3 is True\n",
          "name": "stdout"
        }
      ]
    },
    {
      "metadata": {
        "collapsed": true
      },
      "cell_type": "markdown",
      "source": "## Task 1: Comparison operators"
    },
    {
      "metadata": {
        "trusted": true
      },
      "cell_type": "code",
      "source": "X = 9 + 4\n# [ ] create a test to print() True or False for x is equal to 13\n\nprint(\"x is not equal 17 is\", x != 17)\nprint(\"x equal 14 is\", x == 14)\n",
      "execution_count": 22,
      "outputs": [
        {
          "output_type": "stream",
          "text": "x is not equal 17 is True\nx equal 14 is False\n",
          "name": "stdout"
        }
      ]
    },
    {
      "metadata": {
        "trusted": true
      },
      "cell_type": "code",
      "source": "# [ ] create a test to print True or False for 3 + 3 is greater than 2 + 4\nx = 3 + 3\ny = 2 + 4\n\nprint(\"x is equal y is\", x == 3 + 3)\nprint(\"x not equal y is\", y != 2 + 4)\n",
      "execution_count": 24,
      "outputs": [
        {
          "output_type": "stream",
          "text": "x is equal y is True\nx not equal y is False\n",
          "name": "stdout"
        }
      ]
    },
    {
      "metadata": {
        "collapsed": true
      },
      "cell_type": "markdown",
      "source": "## Concept:  Comparison Operators in Conditionals\n### Conditionals: Comparison operators with `if`\n[![view video](https://iajupyterprodblobs.blob.core.windows.net/imagecontainer/common/play_video.png)]( http://edxinteractivepage.blob.core.windows.net/edxpages/f7cff1a7-5601-48a1-95a6-fd1fdfabd20e.html?details=[{\"src\":\"http://jupyternootbookwams.streaming.mediaservices.windows.net/15e3b015-e83b-4ab8-8375-b11e52a348ea/Unit1_Section4.2-conditional-if.ism/manifest\",\"type\":\"application/vnd.ms-sstr+xml\"}],[{\"src\":\"http://jupyternootbookwams.streaming.mediaservices.windows.net/15e3b015-e83b-4ab8-8375-b11e52a348ea/Unit1_Section4.2-conditional-if.vtt\",\"srclang\":\"en\",\"kind\":\"subtitles\",\"label\":\"english\"}])\nComparison operators evaluate to Boolean **`True`** and **`False`** to direct the flow of **`if`** conditionals."
    },
    {
      "metadata": {},
      "cell_type": "markdown",
      "source": "### Examples"
    },
    {
      "metadata": {
        "trusted": true
      },
      "cell_type": "code",
      "source": "# review code and run cell\nx = 21\nif x > 25:\n    print(\"x is already bigger than 25\")\nelse:\n    print(\"x was\", x)\n    x = 25\n    print(\"now x is\", x)",
      "execution_count": 25,
      "outputs": [
        {
          "output_type": "stream",
          "text": "x was 21\nnow x is 25\n",
          "name": "stdout"
        }
      ]
    },
    {
      "metadata": {
        "trusted": true
      },
      "cell_type": "code",
      "source": "# review code and run cell\nx = 18\nif x + 18 == x + x:\n    print(\"Pass: x + 18 is equal to\", x + x)\nelse:\n    print(\"Fail: x + 18 is not equal to\", x + x)",
      "execution_count": 26,
      "outputs": [
        {
          "output_type": "stream",
          "text": "Pass: x + 18 is equal to 36\n",
          "name": "stdout"
        }
      ]
    },
    {
      "metadata": {
        "trusted": true
      },
      "cell_type": "code",
      "source": "# review code and run cell. \"!\" means \"not\"\nx = 18\ntest_value = 18\nif x != test_value:\n    print('x is not', test_value)\nelse:\n    print('x is', test_value)\n",
      "execution_count": 28,
      "outputs": [
        {
          "output_type": "stream",
          "text": "x is 18\n",
          "name": "stdout"
        }
      ]
    },
    {
      "metadata": {
        "trusted": true
      },
      "cell_type": "code",
      "source": "# review code and run cell\n# DON'T ASSIGN (x = 2) when you mean to COMPARE (x == 2)\nx = 2\n\nif x == 2:\n    print('\"==\" tests for, is equal to')\nelse:\n    pass",
      "execution_count": 35,
      "outputs": [
        {
          "output_type": "stream",
          "text": "\"==\" tests for, is equal to\n",
          "name": "stdout"
        }
      ]
    },
    {
      "metadata": {
        "collapsed": true
      },
      "cell_type": "markdown",
      "source": "## Task 2: Evaluating a comparison operator in `if`"
    },
    {
      "metadata": {
        "trusted": true
      },
      "cell_type": "code",
      "source": "# [ ] create an if/else statement that tests if y is greater than or equal x + x \n# [ ] print output: \"y greater than or equal x + x is\" True/False ...or a similar output\nx = 5\ny = 8\n\nif y >= x + x:\n    result = True\nelse:\n    result= False\n    \nprint(\" y greater than equal to x + x is :\", result) \n\n   \n \n",
      "execution_count": 51,
      "outputs": [
        {
          "output_type": "stream",
          "text": " y greater than equal to x + x is : False\n",
          "name": "stdout"
        }
      ]
    },
    {
      "metadata": {},
      "cell_type": "markdown",
      "source": "[Terms of use](http://go.microsoft.com/fwlink/?LinkID=206977) &nbsp; [Privacy & cookies](https://go.microsoft.com/fwlink/?LinkId=521839) &nbsp; © 2017 Microsoft"
    }
  ],
  "metadata": {
    "anaconda-cloud": {},
    "celltoolbar": "Raw Cell Format",
    "kernelspec": {
      "name": "python3",
      "display_name": "Python 3",
      "language": "python"
    },
    "language_info": {
      "mimetype": "text/x-python",
      "nbconvert_exporter": "python",
      "name": "python",
      "file_extension": ".py",
      "version": "3.5.4",
      "pygments_lexer": "ipython3",
      "codemirror_mode": {
        "version": 3,
        "name": "ipython"
      }
    }
  },
  "nbformat": 4,
  "nbformat_minor": 1
}