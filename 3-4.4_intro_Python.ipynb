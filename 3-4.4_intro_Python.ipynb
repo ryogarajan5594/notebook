{
  "cells": [
    {
      "metadata": {},
      "cell_type": "markdown",
      "source": "# Section 4.4: Documenting Functions (`pydoc`)\n* pydoc\n\n### Students will be able to:\n* Use pydoc to generate text documentation\n* Use pydoc to generate HTML documentation"
    },
    {
      "metadata": {},
      "cell_type": "markdown",
      "source": "---\n<font size=\"6\" color=\"#00A0B2\"  face=\"verdana\"> <B>Concepts</B></font>  \n\n\n## Generating Documentation by Using `pydoc`\n[![view video](https://iajupyterprodblobs.blob.core.windows.net/imagecontainer/common/play_video.png)](http://edxinteractivepage.blob.core.windows.net/edxpages/f7cff1a7-5601-48a1-95a6-fd1fdfabd20e.html?details=[{\"src\":\"http://jupyternootbookwams.streaming.mediaservices.windows.net/250ee08c-fd50-4f86-881a-21200af1bb87/DEV330x-4_4a_pydoc.ism/manifest\",\"type\":\"application/vnd.ms-sstr+xml\"}],[{\"src\":\"http://jupyternootbookwams.streaming.mediaservices.windows.net/23494b98-0fca-4ae3-9101-3c4e1d101b67/DEV330x-4_4a_pydoc.vtt\",\"srclang\":\"en\",\"kind\":\"subtitles\",\"label\":\"english\"}])\n\n`pydoc` is a Python module that can automatically generate documentation using the docstrings in a module. It imports the module to generate its documentation; therefore, you should always use `__name__ == \"__main__\"` to suppress any function from running when the documentation is being generated. The output of `pydoc` can be in text format or HTML format. \n\nTo generate text documentation for a module contained in `test.py`, run the following command:\n\n```bash\npydoc test\n```\n\nTo generate HTML documentation for `test.py`, run the command with the `-w` flag as follows:\n\n```bash\npydoc -w test\n```"
    },
    {
      "metadata": {},
      "cell_type": "markdown",
      "source": "---\n<font size=\"6\" color=\"#00A0B2\"  face=\"verdana\"> <B>Examples</B></font>\n"
    },
    {
      "metadata": {
        "trusted": true
      },
      "cell_type": "code",
      "source": "%cd command_line/",
      "execution_count": 1,
      "outputs": [
        {
          "output_type": "stream",
          "text": "[Errno 2] No such file or directory: 'command_line/'\n/home/nbuser/library\n",
          "name": "stdout"
        }
      ]
    },
    {
      "metadata": {},
      "cell_type": "markdown",
      "source": "## Converting Celsius to Fahrenheit"
    },
    {
      "metadata": {
        "collapsed": true,
        "trusted": false
      },
      "cell_type": "code",
      "source": "%%writefile c2f.py\n\ndef C2F(degrees_celsius):\n    \"\"\" Convert Celsius to Fahrenheit\"\"\"\n    return degrees_celsius * (9/5) + 32\n\nprint(\"Accessing docstrings using __doc__:\\n\")\nprint(C2F.__doc__)",
      "execution_count": null,
      "outputs": []
    },
    {
      "metadata": {},
      "cell_type": "markdown",
      "source": "Running `pydoc` in the terminal generates:"
    },
    {
      "metadata": {
        "collapsed": true,
        "trusted": false
      },
      "cell_type": "code",
      "source": "%%bash\n\npydoc c2f",
      "execution_count": null,
      "outputs": []
    },
    {
      "metadata": {},
      "cell_type": "markdown",
      "source": "## Converting Kilograms (kg) to Pounds (lb)"
    },
    {
      "metadata": {
        "collapsed": true,
        "trusted": false
      },
      "cell_type": "code",
      "source": "%%writefile kg2lb.py\n\ndef kg2lb(kilograms):\n    \"\"\"\n    Convert kilograms to pounds\n    \n    args:\n        kilograms: float weight in kg \n    \n    returns:\n        pounds: float weight in lb\n    \"\"\"\n    \n    pounds = kilograms * 2.20462262185\n    return pounds\n\nif __name__ == \"__main__\":\n    pass",
      "execution_count": null,
      "outputs": []
    },
    {
      "metadata": {},
      "cell_type": "markdown",
      "source": "Running `pydoc` in the terminal generates:"
    },
    {
      "metadata": {
        "collapsed": true,
        "trusted": false
      },
      "cell_type": "code",
      "source": "%%bash\n\npydoc kg2lb",
      "execution_count": null,
      "outputs": []
    },
    {
      "metadata": {
        "collapsed": true
      },
      "cell_type": "markdown",
      "source": "---\n<font size=\"6\" color=\"#B24C00\"  face=\"verdana\"> <B>Task 1</B></font>\n\n## Generating Documentation by Using `pydoc`"
    },
    {
      "metadata": {},
      "cell_type": "markdown",
      "source": "The following program is the currency converter from a previous task. Generate the text documentation.\n\nNOTE: You do not need to complete the function's code to generate the documentation pages."
    },
    {
      "metadata": {
        "collapsed": true,
        "trusted": false
      },
      "cell_type": "code",
      "source": "%%writefile currency_converter.py\n\ndef USD2EUR(amount):\n    \"\"\"\n    Convert amount from US Dollars to Euros.\n    \n    Use 1 USD = 0.831467 EUR\n    \n    args:\n        amount: US dollar amount (float)\n        \n    returns:\n        value: the equivalent of amount in Euros (float)\n    \"\"\"\n    #TODO: Your code goes here\n    return value\n\ndef EUR2GBP(amount):\n    \"\"\"\n    Convert amount from Euros to British Pounds.\n    \n    Use 1 EUR = 0.889358 GBP\n    \n    args:\n        amount: Euros amount (float)\n        \n    returns:\n        value: the equivalent of amount in GBP (float)\n    \"\"\"\n    #TODO: Your code goes here\n    return value\n\ndef USD2GBP(amount):\n    \"\"\"\n    Convert amount from US Dollars to British Pounds.\n    \n    The conversion rate is unknown, you have to use USD2EUR and EUR2GBP\n    \n    args:\n        amount: US dollar amount (float)\n        \n    returns:\n        value: the equivalent of amount in British Pounds (float)\n    \"\"\"\n    #TODO: Your code goes here\n \n    return value\n\ndef main():\n    amount = float(input(\"Enter amount in USD: $\"))\n    \n    # In British Pounds\n    gbp = USD2GBP(amount)\n    \n    print(\"${:.2f} USD = {:.2f} GBP\".format(amount, gbp))\n    \nif __name__ == '__main__':\n    main()",
      "execution_count": null,
      "outputs": []
    },
    {
      "metadata": {
        "collapsed": true,
        "trusted": false
      },
      "cell_type": "code",
      "source": "%%bash\n\npydoc currency_converter",
      "execution_count": null,
      "outputs": []
    }
  ],
  "metadata": {
    "kernelspec": {
      "name": "python3",
      "display_name": "Python 3",
      "language": "python"
    },
    "language_info": {
      "mimetype": "text/x-python",
      "nbconvert_exporter": "python",
      "name": "python",
      "pygments_lexer": "ipython3",
      "version": "3.5.4",
      "file_extension": ".py",
      "codemirror_mode": {
        "version": 3,
        "name": "ipython"
      }
    }
  },
  "nbformat": 4,
  "nbformat_minor": 2
}