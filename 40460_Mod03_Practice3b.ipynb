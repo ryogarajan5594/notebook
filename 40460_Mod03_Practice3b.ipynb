{
  "cells": [
    {
      "metadata": {},
      "cell_type": "markdown",
      "source": "# Lab 3b  \n## Conditionals, Type, and Mathematics Extended   \n\n-----\n\n### Student will be able to\n- Code more than two choices using **`elif`**\n- Gather numeric input using type casting\n- Perform subtraction, multiplication and division operations in code  "
    },
    {
      "metadata": {},
      "cell_type": "markdown",
      "source": "## Tasks"
    },
    {
      "metadata": {},
      "cell_type": "markdown",
      "source": "### Rainbow colors\nAsk for input of a favorite rainbow color first letter: ROYGBIV.\n\nUsing `if`, `elif`, and `else`:  \n- Print the color matching the letter  \n    - R = Red  \n    - O = Orange  \n    - Y = Yellow  \n    - G = Green\n    - B = Blue\n    - I = Indigo\n    - V = Violet\n    - Else print \"no match\"\n"
    },
    {
      "metadata": {
        "trusted": true
      },
      "cell_type": "code",
      "source": "# [ ] complete rainbow colors\n\ndef fav_color(R,O,Y,G,B,I,V):\n    favorite = input(\"What is your favorite color ?. Write the first letter of your favorite color !\")\n    \n    if favorite.upper() == \"R\":\n                      print(\"So your favorite color is 'R', so... you like the color Red! \")\n\n    elif favorite.upper() == \"O\":\n                        print(\"So your favorite color is 'O', so... you like the color Orange! \")\n    \n    elif favorite.upper() == \"Y\":\n                        print(\"So your favorite color is 'Y', so... you like the color Yellow! \")\n    \n    elif favorite.upper() == \"G\":\n                        print(\"So your favorite color is 'G', so... you like the color Green! \")\n    \n    elif favorite.upper() == \"B\":\n                        print(\"So your favorite color is 'B', so... you like the color Blue! \")\n    \n    elif favorite.upper() == \"I\":\n                        print(\"So your favorite color is 'I', so... you like the color Indigo! \")\n    \n    elif favorite.upper() == \"V\":\n                        print(\"So your favorite color is 'V', so... you like the color Violet! \")\n    \n    else:\n        print(\"No match!\")\n\n\nfav_color(\"R\",\"O\",\"Y\",\"G\",\"B\",\"I\",\"V\")",
      "execution_count": 17,
      "outputs": [
        {
          "output_type": "stream",
          "name": "stdout",
          "text": "What is your favorite color ?. Write the first letter of your favorite color !r\nSo your favorite color is 'R', so... you like the color Red! \n"
        }
      ]
    },
    {
      "metadata": {
        "trusted": true
      },
      "cell_type": "code",
      "source": "# [ ] make the code above into a function rainbow_color() that has a string parameter, \n# get input and call the function and return the \n# [ ] complete rainbow colors\n\ndef rainbow_color(colors):\n    colors = \"Red,Orange,Yellow,Green,Blue,Indigo,Violet\"\n    return colors    \n\nprint(\"Rainbow colors are: \", rainbow_color(\"colors\"))\n",
      "execution_count": 65,
      "outputs": [
        {
          "output_type": "stream",
          "text": "Rainbow colors are:  Red,Orange,Yellow,Green,Blue,Indigo,Violet\n",
          "name": "stdout"
        }
      ]
    },
    {
      "metadata": {},
      "cell_type": "markdown",
      "source": "# &nbsp;  \n**Create function age_20() that adds or subtracts 20 from your age for a return value based on current age** (use `if`) \n- Call the function with user input and then use the return value in a sentence  \nExample `age_20(25)` returns **5**: \n> \"5 years old, 20 years difference from now\""
    },
    {
      "metadata": {
        "trusted": true
      },
      "cell_type": "code",
      "source": "# [ ] complete age_20()\ndef age_20(age):\n    new_age = age+20\n    print(new_age,\"years old, 20 years from now\")\n        \nyour_age= input(\"Whats your current age :\")\nage_20(int(your_age))\n",
      "execution_count": 1,
      "outputs": [
        {
          "output_type": "stream",
          "name": "stdout",
          "text": "Whats your current age :14\n34 years old, 20 years from now\n"
        }
      ]
    },
    {
      "metadata": {},
      "cell_type": "markdown",
      "source": "**Create a function rainbow_or_age that takes a string argument**\n- If argument is a digit return the value of calling age_20() with the str value cast as **`int`** \n- If argument is an alphabetical character return the value of calling rainbow_color() with the str\n- If neither return FALSE"
    },
    {
      "metadata": {
        "trusted": true
      },
      "cell_type": "code",
      "source": "# [ ]  create rainbow_or_age()\n\ndef  rainbow_or_age(string_input):\n    \n    if string_input.isnumeric():\n        age_20(int(string_input))\n    elif string_input.isalpha():\n        print(rainbow_color(string_input))\n    else:\n        return False\n\nrainbow_or_age(\"y\")\n    \n",
      "execution_count": 72,
      "outputs": [
        {
          "output_type": "stream",
          "text": "Red,Orange,Yellow,Green,Blue,Indigo,Violet\n",
          "name": "stdout"
        }
      ]
    },
    {
      "metadata": {
        "trusted": true
      },
      "cell_type": "code",
      "source": "# [ ]  add 2 numbers from input using a cast to integer and display the answer \ndef add_number(num1, num2):\n    solution = (int(num1) + int(num2))\n    return solution\n\nnum1 = input(\"Enter your first number.\")\nnum2 = input(\"Enter your second number\")\n\n\n# total = add_number(num1, num2)\n# print( total)\n\nprint (add_number(num1, num2))",
      "execution_count": 2,
      "outputs": [
        {
          "output_type": "stream",
          "name": "stdout",
          "text": "Enter your first number.4\nEnter your second number3\n7\n"
        }
      ]
    },
    {
      "metadata": {
        "trusted": true
      },
      "cell_type": "code",
      "source": "# [ ] Multiply 2 numbers from input using cast and save the answer as part of a string \"the answer is...\"\n# display the string using print\ndef mult_number(num1, num2):\n    solution = (int(num1) * int(num2))\n    return solution\nnum1 = input(\"Enter your first number.\")\nnum2 = input(\"Enter your second number.\")\n\nprint(mult_number(num1, num2))",
      "execution_count": 88,
      "outputs": [
        {
          "output_type": "stream",
          "name": "stdout",
          "text": "Enter your first number.4\nEnter your second number.6\n24\n"
        }
      ]
    },
    {
      "metadata": {
        "trusted": true
      },
      "cell_type": "code",
      "source": "# [ ] get input of 2 numbers and display the average: (num1 + num2) divided by 2\ndef divid_num(num1, num2):\n    solution = (int(num1)) + int(num2)\n    return solution/2\nnum1 = input(\"Enter your first number!\")\nnum2 = input(\"Enter your second number!\")\n\nprint(divid_num(num1, num2))",
      "execution_count": 6,
      "outputs": [
        {
          "output_type": "stream",
          "name": "stdout",
          "text": "Enter your first number!3\nEnter your second number!7\n5.0\n"
        }
      ]
    },
    {
      "metadata": {
        "trusted": true
      },
      "cell_type": "code",
      "source": "# [ ] get input of 2 numbers and subtract the largest from the smallest (use an if statement to see which is larger)\n# show the answer\n\nnum_7 = input(\"Input a number you would like to find the difference of from another number. \")\nnum_8 = input(\"Input another number you would like to find the difference of. \")\nif num_7.isdigit() == True:\n    num_7 = int(num_7)\n    if num_8.isdigit() == True:\n        num_8 = int(num_8)\n        if num_7>num_8:\n            print(\"The difference between\",num_7,\"and\",num_8,\"is\",num_7-num_8)\n        elif num_7<num_8:\n            print(\"The difference between\",num_8,\"and\",num_7,\"is\",num_8-num_7)\n       \nelse:\n    print(\"That is not a number\")",
      "execution_count": 3,
      "outputs": [
        {
          "output_type": "stream",
          "name": "stdout",
          "text": "Input a number you would like to find the difference of from another number. 5\nInput another number you would like to find the difference of. 4\nThe difference between 5 and 4 is 1\n"
        }
      ]
    },
    {
      "metadata": {
        "trusted": true
      },
      "cell_type": "code",
      "source": "# [ ] Divide a larger number by a smaller number and print the integer part of the result\n# don't divide by zero! if a zero is input make the result zero\n# [ ] cast the answer to an integer to cut off the decimals and print the result\ndef divide_by_zero():\n    num_9 = input(\"Input a number you would like to divide. \")\n    num_10 = input(\"Input another number you would like to divide. \")\n    if num_9.isdigit() == True:\n        num_9 = int(num_9)\n        if num_10.isdigit() == True:\n            num_10 = int(num_10)\n            if num_9 == 0 or num_10 == 0:\n                return('The answer is 0')\n            if num_9 == num_10:\n                print(\"The answer to\",num_9,\"divided by\",num_10,\"is\",int(num_9/num_10))\n            if num_9>num_10:\n                print(\"The answer to\",num_9,\"divided by\",num_10,\"is\",int(num_9/num_10))\n            if num_9<num_10:\n                print(\"The answer to\",num_10,\"divided by\",num_9,\"is\",int(num_10/num_9))\n    else:\n        print(\"That is not a number\")\ndivide_by_zero()\n",
      "execution_count": 14,
      "outputs": [
        {
          "output_type": "stream",
          "name": "stdout",
          "text": "Input a number you would like to divide. 6\nInput another number you would like to divide. 2\nThe answer to 6 divided by 2 is 3\n"
        }
      ]
    },
    {
      "metadata": {},
      "cell_type": "markdown",
      "source": "[Terms of use](http://go.microsoft.com/fwlink/?LinkID=206977) &nbsp; [Privacy & cookies](https://go.microsoft.com/fwlink/?LinkId=521839) &nbsp; © 2017 Microsoft"
    }
  ],
  "metadata": {
    "anaconda-cloud": {},
    "kernelspec": {
      "name": "python3",
      "display_name": "Python 3",
      "language": "python"
    },
    "language_info": {
      "mimetype": "text/x-python",
      "nbconvert_exporter": "python",
      "name": "python",
      "pygments_lexer": "ipython3",
      "version": "3.5.4",
      "file_extension": ".py",
      "codemirror_mode": {
        "version": 3,
        "name": "ipython"
      }
    }
  },
  "nbformat": 4,
  "nbformat_minor": 1
}