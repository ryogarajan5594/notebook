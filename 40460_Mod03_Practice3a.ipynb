{
  "cells": [
    {
      "metadata": {},
      "cell_type": "markdown",
      "source": "# Lab 3a\n## Conditionals Practice\n\n-----\n\n### Student will be able to\n- **Control code flow with `if`... `else` conditional logic**  \n  - Using Boolean string methods (`.isupper(), .isalpha(), startswith()...`)  \n  - Using comparision (`>, <, >=, <=, ==, !=`)  \n  - Using Strings in comparisons  "
    },
    {
      "metadata": {},
      "cell_type": "markdown",
      "source": "## `if else`\n"
    },
    {
      "metadata": {
        "trusted": true,
        "scrolled": true
      },
      "cell_type": "code",
      "source": "# [ ] input avariable: age as digit and cast to int\n# if age greater than or equal to 12 then print message on age in 10 years \n# or else print message \"It is good to be\" age\n\nage = input(\"Age: \")\n\nif int(age) >= 12:\n    print(\"Age in 10 years\", int(age) + 10)\n    \nelif int(age) < 12:\n    print(\"It's good to be\", age)\n\nelse:\n    print(\"Please use positive integers only!\")\n",
      "execution_count": 35,
      "outputs": [
        {
          "output_type": "stream",
          "name": "stdout",
          "text": "Age: 5\nIt's good to be 5\n"
        }
      ]
    },
    {
      "metadata": {
        "trusted": true
      },
      "cell_type": "code",
      "source": "# [ ] input a number \n# - if number is NOT a digit cast to int\n# - print number \"greater than 100 is\" True/False\nnum = int(input(\"input any number \"))\nif num>100:\n    print(\"True\")\n    print(num ,\"is greater than 100\")\nelse:\n    print(\"False\")\n    print(num , \"is not > 100\")\n",
      "execution_count": 3,
      "outputs": [
        {
          "output_type": "stream",
          "name": "stdout",
          "text": "input any number 32\nFalse\n32 is not > 100\n"
        }
      ]
    },
    {
      "metadata": {},
      "cell_type": "markdown",
      "source": "### Guessing a letter A-Z  \n**check_guess()** takes two string arguments: **letter and guess** (both expect single alphabetical character)   \n    - If guess is not an alpha character print invalid and return False\n    - Test and print if guess is \"high\" or \"low\" and return False\n    - Test and print if guess is \"correct\" and return True"
    },
    {
      "metadata": {
        "trusted": true
      },
      "cell_type": "code",
      "source": "# [ ] create check_guess()\nletters_above = \"a,b,c,d,e,f,g,h,i,j,k,l,m,n\"\nletters_below = \"o,p,q,s,t,u,v,w,x,y,z\"\nguess = \"t\"\ndef check_guess():\n    letter = input(\"Choose a letter \")\n    if letter.lower == guess:\n        print (\"correct\")\n    elif guess in letters_above:\n        print(\"Go down\")\n    elif guess in letters_below:\n        print(\"Go up\")\n    else:\n        print(\"That is not a letter! \")\n        # call with test\n\ncheck_guess()\n",
      "execution_count": 36,
      "outputs": [
        {
          "output_type": "stream",
          "name": "stdout",
          "text": "Choose a letter r\nGo up\n"
        }
      ]
    },
    {
      "metadata": {
        "trusted": true
      },
      "cell_type": "code",
      "source": "# [ ] call check_guess with user input\n\ntarget_letter = input(\"Enter the target letter: \")\nguess_letter = input(\"Guess a letter : \")\ncheck_guess(target_letter, guess_letter)\n",
      "execution_count": 13,
      "outputs": [
        {
          "output_type": "stream",
          "name": "stdout",
          "text": "Enter the target letter: a\nGuess a letter : a\ncorrect\n"
        }
      ]
    },
    {
      "metadata": {},
      "cell_type": "markdown",
      "source": "### Letter Guess\n**Create letter_guess() function that gives the user three guesses**\n- Take a letter character argument for the answer letter\n- Get user input for letter guess  \n- Call check_guess() with answer and guess\n- End letter_guess if \n    - check_guess() equals True, return True  \n    - or after 3 failed attempts, return False"
    },
    {
      "metadata": {
        "trusted": true
      },
      "cell_type": "code",
      "source": "# [ ] create letter_guess() function, call the function to testcorrectLetter = \"e\"\ncorrect_Letter = \"e\"\ndef check_guess (letter):\n    tries = 3\n    while tries > 0:\n        guess = input (\"Enter your guess on a letter from A to Z. You have three tries. \")\n        if letter == guess.lower():                \n            print (\"Correct!\")\n            break\n        elif letter < guess.upper():\n            if tries > 1:\n                print (\"You are wrong, but go closer to A.\")\n            tries = tries - 1\n        elif letter > guess.upper():\n            if tries > 1:\n                print (\"You are wrong, but go closer to Z.\")  \n            tries = tries - 1\n    if tries == 0:\n        print (\"You are out of tries.\")\n\ncheck_guess(correct_Letter)",
      "execution_count": 37,
      "outputs": [
        {
          "output_type": "stream",
          "name": "stdout",
          "text": "Enter your guess on a letter from A to Z. You have three tries. y\nYou are wrong, but go closer to Z.\nEnter your guess on a letter from A to Z. You have three tries. 5\nYou are wrong, but go closer to Z.\nEnter your guess on a letter from A to Z. You have three tries. f\nYou are out of tries.\n"
        }
      ]
    },
    {
      "metadata": {},
      "cell_type": "markdown",
      "source": "### Pet Conversation\n**Ask the user for a sentence about a pet and then reply**  \n- Get user input in variable: about_pet\n- Using a series of **if** statements, respond with appropriate conversation\n  - Check if \"dog\" is in the string about_pet (sample reply \"Ah, a dog\")\n  - Check if \"cat\" is in the string about_pet\n  - Check if 1 or more animal is in string about_pet\n- No need for **else**'s\n- Finish by thanking for the story"
    },
    {
      "metadata": {
        "trusted": true
      },
      "cell_type": "code",
      "source": "# [ ] complete pet conversation\ndef about_pet(input_pet):\n    if \"dog\" in input_pet:\n        print (\"Ah its a dog\")\n    elif \"cat\" in input_pet:\n        print (\"Ah its a cat\")\n    elif \"hamster\" in input_pet: \n        print (\"Ah its a hamster\")\n    else: \n        print(\"What a nice pet!\")\n        print(\"Thank you for your response!\")\n\ninput_pet = input(\"Write a sentence about your pet!\")\n  \nabout_pet(input_pet)\n",
      "execution_count": 38,
      "outputs": [
        {
          "output_type": "stream",
          "name": "stdout",
          "text": "Write a sentence about your pet!Cat has lemons.\nWhat a nice pet!\nThank you for your response!\n"
        }
      ]
    },
    {
      "metadata": {
        "collapsed": true
      },
      "cell_type": "markdown",
      "source": "[Terms of use](http://go.microsoft.com/fwlink/?LinkID=206977) &nbsp; [Privacy & cookies](https://go.microsoft.com/fwlink/?LinkId=521839) &nbsp; © 2017 Microsoft"
    }
  ],
  "metadata": {
    "anaconda-cloud": {},
    "kernelspec": {
      "name": "python3",
      "display_name": "Python 3",
      "language": "python"
    },
    "language_info": {
      "mimetype": "text/x-python",
      "nbconvert_exporter": "python",
      "name": "python",
      "pygments_lexer": "ipython3",
      "version": "3.5.4",
      "file_extension": ".py",
      "codemirror_mode": {
        "version": 3,
        "name": "ipython"
      }
    }
  },
  "nbformat": 4,
  "nbformat_minor": 1
}