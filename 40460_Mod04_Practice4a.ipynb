{
  "cells": [
    {
      "metadata": {},
      "cell_type": "markdown",
      "source": "# Lab 4a\n## Nested Conditionals\n\n-----\n\n### Student will be able to\n- Create nested conditional logic in code  \n- Print format print using escape sequence (**\\**)"
    },
    {
      "metadata": {},
      "cell_type": "markdown",
      "source": "## Tasks"
    },
    {
      "metadata": {
        "trusted": true
      },
      "cell_type": "code",
      "source": "# [ ] print a string that outputs the following exactly: The new line character is \"\\n\"\n\nprint(\"The new line character is \\\"\\\\n\\\"\")",
      "execution_count": 5,
      "outputs": [
        {
          "output_type": "stream",
          "text": "The new line character is \"\\n\"\n",
          "name": "stdout"
        }
      ]
    },
    {
      "metadata": {
        "trusted": true
      },
      "cell_type": "code",
      "source": "# [ ] print output that is exactly (with quotes): \"That's how we escape!\"\nprint(\"\\\"That\\'s how we escape!\\\"\")\n",
      "execution_count": 4,
      "outputs": [
        {
          "output_type": "stream",
          "text": "\"That's how we escape!\"\n",
          "name": "stdout"
        }
      ]
    },
    {
      "metadata": {
        "trusted": true
      },
      "cell_type": "code",
      "source": "# [ ] with only 1 print statement and using No Space Characters, output the text commented below  \n\n# 1       one\n# 22      two\n# 333     three\n\nnum1 = 1\nnum2 = 22\nnum3 = 333\n\nword1 = \"one\"\nword2 = \"two\"\nword3 = \"three\"\n\nprint(\"NUMBERS\\t\\tWORDS\")\nprint(str(num1),'\\t\\t'+ word1)\nprint(str(num2),'\\t\\t'+ word2)\nprint(str(num3),'\\t\\t'+ word3)\n",
      "execution_count": 47,
      "outputs": [
        {
          "output_type": "stream",
          "text": "NUMBERS\t\tWORDS\n1 \t\tone\n22 \t\ttwo\n333 \t\tthree\n",
          "name": "stdout"
        }
      ]
    },
    {
      "metadata": {},
      "cell_type": "markdown",
      "source": "## Program: quote_me() Function\nquote_me takes a string argument and returns a string that will display surrounded with **added double quotes** if printed  \n- Check if the passed string starts with a double quotation mark (`\"\\\"\"`).\n- If it does, then surround the string with single quotation marks \n- If the passed string starts with a single quotation mark, or it if doesn't start with a quotation mark, then surround it with double quotation marks.\n\nTest the function code passing string input as the argument to quote_me(). "
    },
    {
      "metadata": {
        "trusted": true
      },
      "cell_type": "code",
      "source": "# [ ] create and test quote_me()\n\ndef quote_me(a_string_arguement):\n    if a_string_arguement.startswith(\"\\\"\"):\n        return \"\\'\" +  a_string_arguement + \"\\'\" \n    elif a_string_arguement.startswith(\"\\'\"): \n        return \"\\\"\" +  a_string_arguement + \"\\\"\" \n    else:\n        return \"\\\"\" +  a_string_arguement + \"\\\"\" \n    \n    \n\ninput_variable = input(\"Give a string input\")\nprint(\"The new string is \", quote_me(input_variable))\n",
      "execution_count": 1,
      "outputs": [
        {
          "output_type": "stream",
          "name": "stdout",
          "text": "Give a string inputthree is the best\nThe new string is  \"three is the best\"\n"
        }
      ]
    },
    {
      "metadata": {},
      "cell_type": "markdown",
      "source": "## Program: shirt order \nFirst get input for color and size: \n- White has sizes L, M \n- Blue has sizes M, S  \n\nPrint available or unavailable, then print the order confirmation of color and size.  \n\n**Hint**: set a variable \"available = False\" before nested if statements \nand change to True if color and size are available."
    },
    {
      "metadata": {
        "trusted": true
      },
      "cell_type": "code",
      "source": "# [ ] create shirt order using nested if \n\nshirt_color = input(\"What color of shirt do you want? \")\nshirt_size = input(\"What size of shirt do you want? \")\navailable = False\n\nif shirt_color == \"White\" and shirt_size in (\"L\",\"M\"):\n    available = True \nelif shirt_color == \"Blue\" and shirt_size in (\"S\",\"M\"):\n    available = True \n    \nif available == True:\n    print(\"Shirt Color: \", shirt_color, \"Shirt Size: \", shirt_size , \"is available\")\nelse:     \n    print(\"Shirt Color: \",shirt_color, \"Shirt Size: \",shirt_size , \"is not available\")\n",
      "execution_count": 2,
      "outputs": [
        {
          "output_type": "stream",
          "name": "stdout",
          "text": "What color of shirt do you want? blue\nWhat size of shirt do you want? l\nShirt Color:  blue Shirt Size:  l is not available\n"
        }
      ]
    },
    {
      "metadata": {},
      "cell_type": "markdown",
      "source": "## Program: str_analysis() Function\nCreate the str_analysis() function that takes a string argument.  In the body of the function:\n- Check `if` string is digits  \n  - If digits: convert to `int` and check `if` greater than 99  \n    - If greater than 99 print a message about a \"big number\"  \n    - If not greater than 99 print message about small number  \n  - If not digits: check if string isalpha\n    - If isalpha print message about being all alpha\n    - If not isalpha print a message about being neither all alpha nor all digit  \n    \nCall the function with a string from user input. "
    },
    {
      "metadata": {
        "trusted": true
      },
      "cell_type": "code",
      "source": "# [ ] create and test str_analysis()\n\ndef str_analysis(a_string_arg):\n    if a_string_arg.isnumeric():\n        if int(a_string_arg) > 99:\n            print(\"big number\")\n        else: \n            print(\"small number\")\n    elif a_string_arg.isalpha():\n        print(\"its all alpha\")\n    else:\n        print(\"its neither digits nor alpha\")\n\nstr_analysis(\"a\")        \n        ",
      "execution_count": 43,
      "outputs": [
        {
          "output_type": "stream",
          "text": "its all alpha\n",
          "name": "stdout"
        }
      ]
    },
    {
      "metadata": {
        "collapsed": true
      },
      "cell_type": "markdown",
      "source": "## Program: ticket_check() - finds out if a seat is available  \nCall ticket_check() function with 2 arguments: *section* and *seats* requested and return True or False  \n- **section** is a string and expects: general, floor\n- **seats** is an integer and expects: 1 - 10  \n\nCheck for valid section and seats:\n- If section is *general* (or use startswith \"g\")  \n  - If seats is 1-10 return True \n- If section is *floor* (or use starts with \"f\")\n  - If seats is 1-4 return True  \n\nOtherwise return False."
    },
    {
      "metadata": {
        "trusted": true
      },
      "cell_type": "code",
      "source": "# [ ] create and call ticket_check()\n\ndef ticket_check(section, seats):\n\n    if section == \"general\":\n        if int(seats) >=1 and int(seats) <= 10:\n            return True\n    elif section == \"floor\":\n        if int(seats) >=1 and int(seats) <=4  :\n            return True\n    else:\n        return False\n\nprint(ticket_check(\"general\",\"5\"))\n    \n\n",
      "execution_count": 51,
      "outputs": [
        {
          "output_type": "stream",
          "text": "True\n",
          "name": "stdout"
        }
      ]
    },
    {
      "metadata": {
        "trusted": true
      },
      "cell_type": "code",
      "source": "",
      "execution_count": null,
      "outputs": []
    },
    {
      "metadata": {
        "collapsed": true
      },
      "cell_type": "markdown",
      "source": "[Terms of use](http://go.microsoft.com/fwlink/?LinkID=206977) &nbsp; [Privacy & cookies](https://go.microsoft.com/fwlink/?LinkId=521839) &nbsp; © 2017 Microsoft"
    }
  ],
  "metadata": {
    "anaconda-cloud": {},
    "kernelspec": {
      "name": "python3",
      "display_name": "Python 3",
      "language": "python"
    },
    "language_info": {
      "mimetype": "text/x-python",
      "nbconvert_exporter": "python",
      "name": "python",
      "pygments_lexer": "ipython3",
      "version": "3.5.4",
      "file_extension": ".py",
      "codemirror_mode": {
        "version": 3,
        "name": "ipython"
      }
    }
  },
  "nbformat": 4,
  "nbformat_minor": 1
}