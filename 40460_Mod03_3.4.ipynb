{
  "cells": [
    {
      "metadata": {},
      "cell_type": "markdown",
      "source": "# Section 3.4  \n## Conditionals, elif, and Casting  \n- **Conditionals: `elif`**\n- **Casting**  \n- Basic math operators  \n\n-----\n\n### Student will be able to\n- **Code more than two choices using `elif`** \n- **Gather numeric input using type casting**  \n- Perform subtraction, multiplication and division operations in code \n"
    },
    {
      "metadata": {},
      "cell_type": "markdown",
      "source": "## Concept: Conditional `elif`\n\n[![view video](https://iajupyterprodblobs.blob.core.windows.net/imagecontainer/common/play_video.png)]( http://edxinteractivepage.blob.core.windows.net/edxpages/f7cff1a7-5601-48a1-95a6-fd1fdfabd20e.html?details=[{\"src\":\"http://jupyternootbookwams.streaming.mediaservices.windows.net/a2ac5f4b-0400-4a60-91d5-d350c3cc0515/Unit1_Section5.1-elif.ism/manifest\",\"type\":\"application/vnd.ms-sstr+xml\"}],[{\"src\":\"http://jupyternootbookwams.streaming.mediaservices.windows.net/a2ac5f4b-0400-4a60-91d5-d350c3cc0515/Unit1_Section5.1-elif.vtt\",\"srclang\":\"en\",\"kind\":\"subtitles\",\"label\":\"english\"}])\n### A little review  \n- **`if`** means \"**if** a condition exists then do some task.\" **`if`** is usually followed by **`else`**.  \n- **`else`** means \"**or else** after we have tested **if**, then do an alternative task\".  \n\nWhen there  is a need to test for multiple conditions there is&nbsp; **`elif`**.\n- **`elif`**&nbsp; statement follows &nbsp;**`if`**, and means **\"else, if \"** another condition exists do something else\n- **`elif`**&nbsp; can be used many times\n- **`else`**&nbsp; is used after the last test condition (**`if`** or **`elif`**)\n\n#### In pseudo code  \n**If** it is raining bring an umbrella  \nor **Else If** &nbsp;(`elif`) it is snowing bring a warm coat  \nor **Else** go as usual  \n\nLike **`else`**, the **`elif`** only executes when the previous conditional is False."
    },
    {
      "metadata": {
        "collapsed": true
      },
      "cell_type": "markdown",
      "source": "### Examples"
    },
    {
      "metadata": {
        "trusted": true
      },
      "cell_type": "code",
      "source": "# [ ] review the code then run testing different inputs\n# WHAT TO WEAR\nweather = input(\"Enter weather (sunny, rainy, snowy): \") \n\nif weather.lower() == \"sunny\":\n    print(\"Wear a t-shirt\")\nelif weather.lower() == \"rainy\":\n    print(\"Bring an umbrella and boots\")\nelif weather.lower() == \"snowy\":\n    print(\"Wear a warm coat and hat\")\nelse:\n    print(\"Sorry, not sure what to suggest for\", weather)",
      "execution_count": 1,
      "outputs": [
        {
          "output_type": "stream",
          "name": "stdout",
          "text": "Enter weather (sunny, rainy, snowy): snowy\nWear a warm coat and hat\n"
        }
      ]
    },
    {
      "metadata": {
        "trusted": true
      },
      "cell_type": "code",
      "source": "# [ ] review the code then run testing different inputs\n# SECRET NUMBER GUESS\nsecret_num = \"2\"\n\nguess = input(\"Enter a guess for the secret number (1-3): \")\n\nif guess.isdigit() == False:\n    print(\"Invalid: guess should only use digits\")\nelif guess == \"1\":\n    print(\"Guess is too low\")\nelif guess == secret_num:\n    print(\"Guess is right\")\nelif guess == \"3\":\n    print(\"Guess is too high\")\nelse:\n    print(guess, \"is not a valid guess (1-3)\")",
      "execution_count": 3,
      "outputs": [
        {
          "output_type": "stream",
          "name": "stdout",
          "text": "Enter a guess for the secret number (1-3): 2\nGuess is right\n"
        }
      ]
    },
    {
      "metadata": {},
      "cell_type": "markdown",
      "source": "## Task 1 (program): Shirt Sale\n### Complete the program using `if, elif, else`\n- Get user input for variable size (S, M, L)\n- Reply with each shirt size and price (Small = \\$ 6, Medium = \\$ 7, Large = \\$ 8)\n- If the reply is other than S, M, L, give a message for not available\n- *Optional*: Add additional sizes"
    },
    {
      "metadata": {
        "trusted": true
      },
      "cell_type": "code",
      "source": "# [ ] code and test SHIRT SALE\nsize = input(\"Pick a size t-shirt you would like: S,M,L\")\n\nif size.lower() == \"s\":\n    print(\"Small = $ 6\")\nelif size == \"m\":\n    print(\" Medium = $ 7\")\nelif size == \"l\":\n    print(\" Large = $ 8\")\nelse:\n    print(\"size, not availabile\")",
      "execution_count": 6,
      "outputs": [
        {
          "output_type": "stream",
          "name": "stdout",
          "text": "Pick a size t-shirt you would like: S,M,LS\nSmall = $ 6\n"
        }
      ]
    },
    {
      "metadata": {},
      "cell_type": "markdown",
      "source": "## Concept: Casting\nCasting is the conversion from one data type to another, such as converting from **`str`** to **`int`**.\n[![view video](https://iajupyterprodblobs.blob.core.windows.net/imagecontainer/common/play_video.png)]( http://edxinteractivepage.blob.core.windows.net/edxpages/f7cff1a7-5601-48a1-95a6-fd1fdfabd20e.html?details=[{\"src\":\"http://jupyternootbookwams.streaming.mediaservices.windows.net/4cbf7f96-9ddd-4962-88a8-71081d7d5ef6/Unit1_Section5.1-casting-input.ism/manifest\",\"type\":\"application/vnd.ms-sstr+xml\"}],[{\"src\":\"http://jupyternootbookwams.streaming.mediaservices.windows.net/4cbf7f96-9ddd-4962-88a8-71081d7d5ef6/Unit1_Section5.1-casting-input.vtt\",\"srclang\":\"en\",\"kind\":\"subtitles\",\"label\":\"english\"}])\n### `int()`\nThe **`int()`** function can convert strings that represent whole counting numbers into integers and strip decimals to convert float numbers to integers.\n- `int(\"1\") = 1` &nbsp; the string representing the integer character `\"1\"`, cast to a number \n- `int(5.1) = 5` &nbsp; the decimal (float), `5.1`, truncated into a non-decimal (integer)  \n- `int(\"5.1\") = ValueError` &nbsp; `\"5.1\"` isn't a string representation of integer, `int()` can cast only strings representing integer values   \n"
    },
    {
      "metadata": {},
      "cell_type": "markdown",
      "source": "### Example"
    },
    {
      "metadata": {
        "trusted": true
      },
      "cell_type": "code",
      "source": "weight1 = '60' # a string\nweight2 = 170 # an integer\n# add 2 integers\ntotal_weight = int(weight1) + weight2\nprint(total_weight)",
      "execution_count": 7,
      "outputs": [
        {
          "output_type": "stream",
          "text": "230\n",
          "name": "stdout"
        }
      ]
    },
    {
      "metadata": {},
      "cell_type": "markdown",
      "source": "## Task 2: Casting with `int()` & `str()`"
    },
    {
      "metadata": {
        "trusted": true
      },
      "cell_type": "code",
      "source": "str_num_1 = \"11\"\nstr_num_2 = \"15\"\nint_num_3 = 10\n# [ ] Add the 3 numbers as integers and print the result\ntotal_numbers = int(str_num_1) + int(str_num_2) + int_num_3\nprint(total_numbers)\n",
      "execution_count": 12,
      "outputs": [
        {
          "output_type": "stream",
          "text": "36\n",
          "name": "stdout"
        }
      ]
    },
    {
      "metadata": {
        "trusted": true
      },
      "cell_type": "code",
      "source": "str_num_1 = \"11\"\nstr_num_2 = \"15\"\nstr_num_3 = \"10\"\n# [ ] Add the 3 numbers as test strings and print the result\ntotal_numbers = int(str_num_1) + int(str_num_2) + int(str_num_3)\nprint(total_numbers)\n",
      "execution_count": 14,
      "outputs": [
        {
          "output_type": "stream",
          "text": "36\n",
          "name": "stdout"
        }
      ]
    },
    {
      "metadata": {},
      "cell_type": "markdown",
      "source": "### Task 2 continued...\n## Program: Adding using `int` casting\n- **[ ]** initialize **`str_integer`** variable to a **string containing characters of an integer** (quotes)   \n- **[ ]** initialize **`int_number`** variable with an **integer value** (no quotes)\n- **[ ]** initialize **`number_total`** variable and **add int_number + str_integer** using **`int`** casting\n- **[ ]** print the sum (**`number_total`**)"
    },
    {
      "metadata": {
        "trusted": true
      },
      "cell_type": "code",
      "source": "# [ ] code and test: adding using int casting\nstr_integer = \"2\"\nint_number = 10\nnumber_total = int(str_integer) + int_number\nprint(number_total)\n",
      "execution_count": 15,
      "outputs": [
        {
          "output_type": "stream",
          "text": "12\n",
          "name": "stdout"
        }
      ]
    },
    {
      "metadata": {},
      "cell_type": "markdown",
      "source": "## Concept: Casting Numeric Input"
    },
    {
      "metadata": {},
      "cell_type": "markdown",
      "source": "### Example"
    },
    {
      "metadata": {
        "trusted": true
      },
      "cell_type": "code",
      "source": "# [ ] review and run code\nstudent_age = input('enter student age (integer): ')\nage_next_year = int(student_age) + 1\nprint('Next year student will be',age_next_year)",
      "execution_count": 16,
      "outputs": [
        {
          "output_type": "stream",
          "name": "stdout",
          "text": "enter student age (integer): 14\nNext year student will be 15\n"
        }
      ]
    },
    {
      "metadata": {
        "trusted": true
      },
      "cell_type": "code",
      "source": "# [ ] review and run code\n# cast to int at input\nstudent_age = int(input('enter student age (integer): '))\n\nage_in_decade = student_age + 10\n\nprint('In a decade the student will be', age_in_decade)",
      "execution_count": 17,
      "outputs": [
        {
          "output_type": "stream",
          "name": "stdout",
          "text": "enter student age (integer): 14\nIn a decade the student will be 24\n"
        }
      ]
    },
    {
      "metadata": {
        "collapsed": true
      },
      "cell_type": "markdown",
      "source": "## Task 3 (program): Adding calculator\n- Get input of 2 **integer** numbers \n- Cast the input and print the input followed by the result\n  - Output Example: **`9 + 13 = 22`**  \n\nOptional: Check if input .isdigit() before trying integer addition to avoid errors in casting invalid inputs."
    },
    {
      "metadata": {
        "trusted": true
      },
      "cell_type": "code",
      "source": "# [ ] code and test the adding calculator\nnum1 = int(input(\"First number: \"))\nnum2 = int(input(\"Second number: \"))\nnum1+num2",
      "execution_count": 23,
      "outputs": [
        {
          "output_type": "stream",
          "name": "stdout",
          "text": "First number: 3\nSecond number: 2\n"
        },
        {
          "output_type": "execute_result",
          "execution_count": 23,
          "data": {
            "text/plain": "5"
          },
          "metadata": {}
        }
      ]
    },
    {
      "metadata": {},
      "cell_type": "markdown",
      "source": "[Terms of use](http://go.microsoft.com/fwlink/?LinkID=206977) &nbsp; [Privacy & cookies](https://go.microsoft.com/fwlink/?LinkId=521839) &nbsp; © 2017 Microsoft"
    }
  ],
  "metadata": {
    "anaconda-cloud": {},
    "kernelspec": {
      "name": "python3",
      "display_name": "Python 3",
      "language": "python"
    },
    "language_info": {
      "mimetype": "text/x-python",
      "nbconvert_exporter": "python",
      "name": "python",
      "file_extension": ".py",
      "version": "3.5.4",
      "pygments_lexer": "ipython3",
      "codemirror_mode": {
        "version": 3,
        "name": "ipython"
      }
    }
  },
  "nbformat": 4,
  "nbformat_minor": 1
}