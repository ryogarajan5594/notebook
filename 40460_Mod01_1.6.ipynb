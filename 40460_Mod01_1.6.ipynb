{
  "cells": [
    {
      "metadata": {
        "collapsed": true
      },
      "cell_type": "markdown",
      "source": "# Section 1.6\n## Input\n- **input() - gathering user input**  \n- print() formatting \n- Quotes inside strings\n- Boolean string tests methods\n- String formatting methods\n- Formatting string input()\n- Boolean `in` keyword \n\n-----\n\n### Student will be able to\n- **Gather, store and use string `input()`**  \n- Format `print()` output\n- Test string characteristics\n- Format string output\n- Search for a string in a string"
    },
    {
      "metadata": {
        "collapsed": true
      },
      "cell_type": "markdown",
      "source": "## Concept: Get Information from Users with `input()`  \nThe **`input()`** function prompts the user to supply data returning that data as a string.\n\n[![view video](https://iajupyterprodblobs.blob.core.windows.net/imagecontainer/common/play_video.png)]( http://edxinteractivepage.blob.core.windows.net/edxpages/f7cff1a7-5601-48a1-95a6-fd1fdfabd20e.html?details=[{\"src\":\"http://jupyternootbookwams.streaming.mediaservices.windows.net/7a8881cb-0bdd-493c-b1a1-9849a95d05e6/Unit1_Section2-1-input-basic.ism/manifest\",\"type\":\"application/vnd.ms-sstr+xml\"}],[{\"src\":\"http://jupyternootbookwams.streaming.mediaservices.windows.net/7a8881cb-0bdd-493c-b1a1-9849a95d05e6/Unit1_Section2-1-input-basic.vtt\",\"srclang\":\"en\",\"kind\":\"subtitles\",\"label\":\"english\"}])\n"
    },
    {
      "metadata": {},
      "cell_type": "markdown",
      "source": "### Examples"
    },
    {
      "metadata": {
        "trusted": true
      },
      "cell_type": "code",
      "source": "# review and run code - enter a small integer in the text box\nprint(\"enter a small int: \")\nsmall_int = input()\nprint(\"small int: \")\nprint(small_int)",
      "execution_count": 1,
      "outputs": [
        {
          "output_type": "stream",
          "text": "enter a small int: \n3\nsmall int: \n3\n",
          "name": "stdout"
        }
      ]
    },
    {
      "metadata": {},
      "cell_type": "markdown",
      "source": "## Task 1: Storing input in a variable\n- **[ ]** Create code to store input in student_name variable  \nAn input box should when run:\n- **[ ]** type a name in the input box and press **Enter**\n- **[ ]** determine the **`type()`** of **student_name**"
    },
    {
      "metadata": {
        "trusted": true
      },
      "cell_type": "code",
      "source": "# [ ] get input for the variable student_name\nprint(\"enter a student name\") \nstudent_name = input()\n# [ ] determine the type of student_name\n\nprint(\"The student name is \" , student_name)\nprint(\"The student_name type is \" , type(student_name))\n\n",
      "execution_count": 3,
      "outputs": [
        {
          "output_type": "stream",
          "text": "enter a student name\nraj\nThe student name is  raj\nThe student_name type is  <class 'str'>\n",
          "name": "stdout"
        }
      ]
    },
    {
      "metadata": {},
      "cell_type": "markdown",
      "source": "### Task 1 continued...\n> **Note**: **`input()`** returns a string (type = str) regardless of entry\n- If a string is entered **`input()`** returns a string\n- If a number is entered **`input()`** returns a string  \n  \n- **[ ]** Determine the **`type()`**  of input below by entering\n  - A name\n  - An integer (whole number no decimal)\n  - A float number with a decimal point"
    },
    {
      "metadata": {
        "trusted": true
      },
      "cell_type": "code",
      "source": "# [ ] run cell several times, entering a name, an integer number, and a float number after adding code below\nprint(\"enter a name or number\")\ntest_input = input()\n# [ ] insert code below to check the type of test_input\nprint(\" The type() of the input is\" , type(test_input))\n\n",
      "execution_count": 7,
      "outputs": [
        {
          "output_type": "stream",
          "text": "enter a name or number\n4\n The type() of the input is <class 'str'>\n",
          "name": "stdout"
        }
      ]
    },
    {
      "metadata": {},
      "cell_type": "markdown",
      "source": "## Concept: User Prompts using `input()`\n\nThe **`input()`** function has an optional string argument which displays the string intended to inform a user what to enter  \n**`input()`** works similar to **`print()`**&nbsp;in the way it displays arguments as output.\n\n[![view video](https://iajupyterprodblobs.blob.core.windows.net/imagecontainer/common/play_video.png)]( http://edxinteractivepage.blob.core.windows.net/edxpages/f7cff1a7-5601-48a1-95a6-fd1fdfabd20e.html?details=[{\"src\":\"http://jupyternootbookwams.streaming.mediaservices.windows.net/c607aa57-b18b-4f29-a317-7b13db66d8e8/Unit1_Section2-1-input-prompt.ism/manifest\",\"type\":\"application/vnd.ms-sstr+xml\"}],[{\"src\":\"http://jupyternootbookwams.streaming.mediaservices.windows.net/c607aa57-b18b-4f29-a317-7b13db66d8e8/Unit1_Section2-1-input-prompt.vtt\",\"srclang\":\"en\",\"kind\":\"subtitles\",\"label\":\"english\"}])\n"
    },
    {
      "metadata": {},
      "cell_type": "markdown",
      "source": "### Examples"
    },
    {
      "metadata": {
        "trusted": true
      },
      "cell_type": "code",
      "source": "student_name = input(\"enter the student name: \")  \nprint(\"Hi \" + student_name)",
      "execution_count": 2,
      "outputs": [
        {
          "output_type": "stream",
          "name": "stdout",
          "text": "enter the student name: Raj\nHi Raj\n"
        }
      ]
    },
    {
      "metadata": {},
      "cell_type": "markdown",
      "source": "## Task 2: Prompting the user for input\n- **[ ]** create a variable named **city** to store input, add a prompt for the name of a city\n- **[ ]** print \"the city name is \" followed by the value stored in **city**"
    },
    {
      "metadata": {
        "trusted": true
      },
      "cell_type": "code",
      "source": "# [ ] get user input for a city name in the variable named city\ncity_name = input(\"What is your city?\")\n\n# [ ] print the city name\nprint(\"Welcome to \" + city_name)\n\n",
      "execution_count": 5,
      "outputs": [
        {
          "output_type": "stream",
          "name": "stdout",
          "text": "What is your city?New York City\nWelcome to New York City\n"
        }
      ]
    },
    {
      "metadata": {
        "collapsed": true
      },
      "cell_type": "markdown",
      "source": "### Task 2 continued \n## Multiple prompts for user input\nOften programs need information on multiple items.\n- **[ ]** create variables to store input: **name**, **age**, **get_mail**\n- **[ ]** create prompts for name, age and yes/no to being on an email list\n- **[ ]** print description + input values   \n\n>Example print output:  \n`name = Alton`  \n`age =  17`  \n`wants email = yes`  \n  \n**Tip:** With multiple input statements, after each prompt, **click 'in' the input box** to continue entering input. "
    },
    {
      "metadata": {
        "trusted": true
      },
      "cell_type": "code",
      "source": "# [ ]create variables to store input: name, age, get_mail with prompts\n# for name, age and yes/no to being on an email list\nname = input(\"What is your name?\")\nage =  input(\"What is your age?\")\nwants_email =  input(\"Do you want the email?\")\n# [ ] print a description + variable value for each variable\nprint(\"Name = \" + name)\nprint(\"Age = \" , int(age) +1)\nprint(\"Email = \" + wants_email)\n\n",
      "execution_count": 9,
      "outputs": [
        {
          "output_type": "stream",
          "name": "stdout",
          "text": "What is your name?raj\nWhat is your age?4\nDo you want the email?n\nName = raj\nAge =  5\nEmail = n\n"
        }
      ]
    },
    {
      "metadata": {},
      "cell_type": "markdown",
      "source": "[Terms of use](http://go.microsoft.com/fwlink/?LinkID=206977) &nbsp; [Privacy & cookies](https://go.microsoft.com/fwlink/?LinkId=521839) &nbsp; © 2017 Microsoft"
    }
  ],
  "metadata": {
    "anaconda-cloud": {},
    "kernelspec": {
      "name": "python3",
      "display_name": "Python 3",
      "language": "python"
    },
    "language_info": {
      "mimetype": "text/x-python",
      "nbconvert_exporter": "python",
      "name": "python",
      "file_extension": ".py",
      "version": "3.5.4",
      "pygments_lexer": "ipython3",
      "codemirror_mode": {
        "version": 3,
        "name": "ipython"
      }
    }
  },
  "nbformat": 4,
  "nbformat_minor": 1
}