{
 "cells": [
  {
   "cell_type": "markdown",
   "metadata": {},
   "source": [
    "# Lab 2\n",
    "## Functions, Arguments, and Parameters Practice\n",
    "\n",
    "-----\n",
    "\n",
    "### Student will be able to\n",
    "- **Create functions with a parameter**  \n",
    "- **Create functions with a `return` value** \n",
    "- **Create functions with multiple parameters**\n",
    "- **Use knowledge of sequence in coding tasks**  \n",
    "- **Use coding best practices** "
   ]
  },
  {
   "cell_type": "markdown",
   "metadata": {},
   "source": [
    "## Tasks"
   ]
  },
  {
   "cell_type": "code",
   "execution_count": null,
   "metadata": {
    "collapsed": false
   },
   "outputs": [],
   "source": [
    "# [ ] define and call a function short_rhyme() that prints a 2 line rhyme\n",
    "\n"
   ]
  },
  {
   "cell_type": "code",
   "execution_count": null,
   "metadata": {
    "collapsed": false
   },
   "outputs": [],
   "source": [
    "# [ ] define (def) a simple function: title_it() and call the function\n",
    "# - has a string parameter: msg\n",
    "# - prints msg in Title Case\n",
    "\n"
   ]
  },
  {
   "cell_type": "code",
   "execution_count": null,
   "metadata": {
    "collapsed": false
   },
   "outputs": [],
   "source": [
    "# [ ] get user input with prompt \"what is the title?\" \n",
    "# [ ] call title_it() using input for the string argument\n",
    "\n"
   ]
  },
  {
   "cell_type": "code",
   "execution_count": null,
   "metadata": {
    "collapsed": false
   },
   "outputs": [],
   "source": [
    "# [ ] define title_it_rtn() which returns a titled string instead of printing\n",
    "# [ ] call title_it_rtn() using input for the string argument and print the result\n",
    "\n"
   ]
  },
  {
   "cell_type": "markdown",
   "metadata": {},
   "source": [
    "## Program: bookstore()\n",
    "Create and test bookstore().\n",
    "- **bookstore() takes 2 string arguments: book & price**\n",
    "- **bookstore returns a string in sentence form** \n",
    "- **bookstore() should call title_it_rtn()** with book parameter  \n",
    "- **Gather input for book_entry and price_entry to use in calling bookstore()**\n",
    "- **Print the return value of bookstore()**\n",
    ">Example of output: **`Title: The Adventures Of Sherlock Holmes, costs $12.99`**"
   ]
  },
  {
   "cell_type": "code",
   "execution_count": null,
   "metadata": {
    "collapsed": false
   },
   "outputs": [],
   "source": [
    "# [ ] create, call and test bookstore() function\n",
    "\n"
   ]
  },
  {
   "cell_type": "markdown",
   "metadata": {},
   "source": [
    "## Fix the error"
   ]
  },
  {
   "cell_type": "code",
   "execution_count": null,
   "metadata": {
    "collapsed": false
   },
   "outputs": [],
   "source": [
    "def make_greeting(name, greeting = \"Hello\"):\n",
    "    return (greeting + \" \" + name + \"!\")\n",
    "\n",
    "# get name and greeting, send to make_greeting \n",
    "print(make_greeting(get_name(), get_greeting()))\n",
    "\n",
    "def get_name():\n",
    "    name_entry = input(\"enter a name: \")\n",
    "    return name_entry\n",
    "\n",
    "def get_greeting():\n",
    "    greeting_entry = input(\"enter a greeting: \")\n",
    "    return greeting_entry\n",
    "\n",
    "\n",
    "\n"
   ]
  },
  {
   "cell_type": "markdown",
   "metadata": {
    "collapsed": false
   },
   "source": [
    "\n",
    "[Terms of use](http://go.microsoft.com/fwlink/?LinkID=206977) &nbsp; [Privacy & cookies](https://go.microsoft.com/fwlink/?LinkId=521839) &nbsp; © 2017 Microsoft"
   ]
  }
 ],
 "metadata": {
  "anaconda-cloud": {},
  "kernelspec": {
   "display_name": "Python 3",
   "language": "python",
   "name": "python3"
  },
  "language_info": {
   "codemirror_mode": {
    "name": "ipython",
    "version": 3
   },
   "file_extension": ".py",
   "mimetype": "text/x-python",
   "name": "python",
   "nbconvert_exporter": "python",
   "pygments_lexer": "ipython3",
   "version": "3.5.1"
  }
 },
 "nbformat": 4,
 "nbformat_minor": 1
}
